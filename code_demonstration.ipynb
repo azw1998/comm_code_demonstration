{
 "cells": [
  {
   "cell_type": "code",
   "execution_count": 1,
   "metadata": {},
   "outputs": [],
   "source": [
    "def htable(nbuckets): # nbuckets indicates the number of buckets we want to create in our hashtable\n",
    "    \n",
    "    return [[] for i in range(nbuckets)] # returns empty hashtable with desired number of buckets"
   ]
  },
  {
   "cell_type": "code",
   "execution_count": 2,
   "metadata": {},
   "outputs": [
    {
     "data": {
      "text/plain": [
       "[[], [], [], [], [], [], [], [], [], []]"
      ]
     },
     "execution_count": 2,
     "metadata": {},
     "output_type": "execute_result"
    }
   ],
   "source": [
    "htable(10)"
   ]
  },
  {
   "cell_type": "code",
   "execution_count": 3,
   "metadata": {},
   "outputs": [],
   "source": [
    "def hashcode(o):\n",
    "    \n",
    "    if type(o) == int:\n",
    "        return o # hashcode for an integer is the integer itself\n",
    "    if type(o) == str:\n",
    "        h = 0\n",
    "        for c in o:\n",
    "            h = h*31 + ord(c) # sum of character unicode values\n",
    "        return h\n",
    "    return # return no hashcode for types other than integers and strings"
   ]
  },
  {
   "cell_type": "code",
   "execution_count": 4,
   "metadata": {},
   "outputs": [
    {
     "data": {
      "text/plain": [
       "42"
      ]
     },
     "execution_count": 4,
     "metadata": {},
     "output_type": "execute_result"
    }
   ],
   "source": [
    "hashcode(42)"
   ]
  },
  {
   "cell_type": "code",
   "execution_count": 5,
   "metadata": {},
   "outputs": [
    {
     "data": {
      "text/plain": [
       "63401902953007148893"
      ]
     },
     "execution_count": 5,
     "metadata": {},
     "output_type": "execute_result"
    }
   ],
   "source": [
    "hashcode(\"Michael Ruddy\")"
   ]
  },
  {
   "cell_type": "code",
   "execution_count": 6,
   "metadata": {},
   "outputs": [],
   "source": [
    "def htable_put(table, key, value):\n",
    "    \"\"\"\n",
    "    Process is similar to adding a key-value pair to a dictionary.\n",
    "    The type(value) can be anything.\n",
    "    \"\"\"\n",
    "\n",
    "    bucket = table[hashcode(key) % len(table)] # find the appropriate bucket for our key in our hashtable\n",
    "\n",
    "    if bucket:\n",
    "        for association in bucket:\n",
    "            if association[0] == key:\n",
    "                bucket.remove(association) # if key is already present, remove key-value pair\n",
    "                break\n",
    "    bucket.append((key, value)) # add new or updated key-value pair to hashtable"
   ]
  },
  {
   "cell_type": "code",
   "execution_count": 7,
   "metadata": {},
   "outputs": [],
   "source": [
    "table = htable(5)\n",
    "htable_put(table, \"a\", \"123\")\n",
    "htable_put(table, \"b\", \"4\")\n",
    "htable_put(table, \"g\", (\"tuple\", \"tuple2\"))"
   ]
  },
  {
   "cell_type": "code",
   "execution_count": 8,
   "metadata": {},
   "outputs": [],
   "source": [
    "def htable_get(table, key):\n",
    "    \n",
    "    bucket = table[hashcode(key) % len(table)] # find the appropriate bucket for our key in our hashtable\n",
    "\n",
    "    for association in bucket:\n",
    "        if association[0] == key:\n",
    "            return association[1] # return the associated value for our input key\n",
    "    return # returns None if key is not found in hashtable"
   ]
  },
  {
   "cell_type": "code",
   "execution_count": 9,
   "metadata": {},
   "outputs": [
    {
     "data": {
      "text/plain": [
       "'123'"
      ]
     },
     "execution_count": 9,
     "metadata": {},
     "output_type": "execute_result"
    }
   ],
   "source": [
    "htable_get(table, \"a\")"
   ]
  },
  {
   "cell_type": "code",
   "execution_count": 10,
   "metadata": {},
   "outputs": [
    {
     "data": {
      "text/plain": [
       "'4'"
      ]
     },
     "execution_count": 10,
     "metadata": {},
     "output_type": "execute_result"
    }
   ],
   "source": [
    "htable_get(table, \"b\")"
   ]
  },
  {
   "cell_type": "code",
   "execution_count": 11,
   "metadata": {},
   "outputs": [
    {
     "data": {
      "text/plain": [
       "('tuple', 'tuple2')"
      ]
     },
     "execution_count": 11,
     "metadata": {},
     "output_type": "execute_result"
    }
   ],
   "source": [
    "htable_get(table, \"g\")"
   ]
  },
  {
   "cell_type": "code",
   "execution_count": 12,
   "metadata": {},
   "outputs": [],
   "source": [
    "# if we add new values for existing keys, they will replace the original values\n",
    "htable_put(table, \"a\", \"apple\")\n",
    "htable_put(table, \"a\", \"xyz\")\n",
    "htable_put(table, \"g\", [\"list\", \"of\", \"words\"])"
   ]
  },
  {
   "cell_type": "code",
   "execution_count": 13,
   "metadata": {},
   "outputs": [
    {
     "data": {
      "text/plain": [
       "'xyz'"
      ]
     },
     "execution_count": 13,
     "metadata": {},
     "output_type": "execute_result"
    }
   ],
   "source": [
    "htable_get(table, \"a\")"
   ]
  },
  {
   "cell_type": "code",
   "execution_count": 14,
   "metadata": {},
   "outputs": [
    {
     "data": {
      "text/plain": [
       "'4'"
      ]
     },
     "execution_count": 14,
     "metadata": {},
     "output_type": "execute_result"
    }
   ],
   "source": [
    "htable_get(table, \"b\")"
   ]
  },
  {
   "cell_type": "code",
   "execution_count": 15,
   "metadata": {},
   "outputs": [
    {
     "data": {
      "text/plain": [
       "['list', 'of', 'words']"
      ]
     },
     "execution_count": 15,
     "metadata": {},
     "output_type": "execute_result"
    }
   ],
   "source": [
    "htable_get(table, \"g\")"
   ]
  },
  {
   "cell_type": "code",
   "execution_count": 16,
   "metadata": {},
   "outputs": [],
   "source": [
    "def get_text(fileName):\n",
    "    f = open(fileName, encoding='latin - 1')\n",
    "    s = f.read()\n",
    "    f.close()\n",
    "    return s"
   ]
  },
  {
   "cell_type": "code",
   "execution_count": 17,
   "metadata": {},
   "outputs": [],
   "source": [
    "def words(text):\n",
    "    regex = re.compile('[' + re.escape(string.punctuation) + \n",
    "    '0 - 9\\\\r\\\\t\\\\n]')\n",
    "    # delete stuff but leave at least a space to avoid clumping together\n",
    "    nopunct = regex.sub(\" \", text)  \n",
    "    words = nopunct.split(\" \")\n",
    "    # ignore a, an, to, at, be, ...\n",
    "    words = [w for w in words if len(w) > 2]  \n",
    "    words = [w.lower() for w in words]\n",
    "    # print words\n",
    "    return words"
   ]
  },
  {
   "cell_type": "code",
   "execution_count": 18,
   "metadata": {},
   "outputs": [],
   "source": [
    "def myhtable_create_index(files):\n",
    "    \n",
    "    index = htable(4011) #create empty htable with 4011 buckets\n",
    "\n",
    "    for filename in files:\n",
    "        word_list = set(words(get_text(filename))) \n",
    "        for word in word_list:\n",
    "        #get the file index list which contains the word\n",
    "            curr_value = htable_get(index, word)\n",
    "        #if the curr_value exist, we will add the file index into the set\n",
    "            if curr_value: \n",
    "                curr_value.add(files.index(filename)) \n",
    "                value = curr_value\n",
    "            else:\n",
    "        #if none, we will define a empty set,then add the index into the set\n",
    "                value = set() \n",
    "                value.add(files.index(filename))\n",
    "        #put the result back to the hash table\n",
    "            htable_put(index, word, value) \n",
    "    return index"
   ]
  },
  {
   "cell_type": "code",
   "execution_count": 19,
   "metadata": {},
   "outputs": [],
   "source": [
    "def myhtable_index_search(files, index, terms):\n",
    "\n",
    "    matches = [] #create empty list\n",
    "\n",
    "    for term in terms:\n",
    "        term_matches = htable_get(index, term) \n",
    "        #if match is empty\n",
    "        if not matches: \n",
    "            matches = term_matches\n",
    "        #if match is not empty\n",
    "        else:\n",
    "            matches = set(matches).intersection(set(term_matches))\n",
    "    #if matches is empty after checking, return empty list        \n",
    "    if not matches: \n",
    "        return []\n",
    "    #if matches has common index, return all files in matches\n",
    "    filenames = [files[match] for match in matches] \n",
    "    \n",
    "    return filenames"
   ]
  },
  {
   "cell_type": "code",
   "execution_count": 23,
   "metadata": {},
   "outputs": [],
   "source": [
    "#file is a list contains all related file location\n",
    "htable = myhtable_create_index(file) "
   ]
  },
  {
   "cell_type": "code",
   "execution_count": 32,
   "metadata": {},
   "outputs": [
    {
     "name": "stdout",
     "output_type": "stream",
     "text": [
      "['slate/1/Article247_4.txt', 'slate/18/Article247_4198.txt', 'slate/31/ArticleIP_1924.txt', 'slate/30/ArticleIP_1846.txt']\n"
     ]
    }
   ],
   "source": [
    "searchresult = myhtable_index_search(file, htable, ['anger','considerable'])\n",
    "print(searchresult)"
   ]
  },
  {
   "cell_type": "code",
   "execution_count": null,
   "metadata": {},
   "outputs": [],
   "source": [
    "def htable_buckets_str(table):\n",
    "    \"\"\"\n",
    "    Return a string representing the various buckets of this table.\n",
    "    The output looks like:\n",
    "        0000->\n",
    "        0001->\n",
    "        0002->\n",
    "        0003->parrt:99\n",
    "        0004->\n",
    "    where parrt:99 indicates an association of (parrt,99) in bucket 3.\n",
    "    \"\"\"\n",
    "    bucket_str_list = []\n",
    "    for i in range(len(table)):\n",
    "        bucket_key_values = []\n",
    "        for association in table[i]:\n",
    "            if association and association[0] and association[1]:\n",
    "                bucket_key_values.append(str(association[0]) + ':' + str(association[1]))\n",
    "        bucket_str_list.append('000' + str(i) + '->' + ', '.join(bucket_key_values))\n",
    "    return '\\n'.join(bucket_str_list) + '\\n'"
   ]
  },
  {
   "cell_type": "code",
   "execution_count": null,
   "metadata": {},
   "outputs": [],
   "source": [
    "def htable_str(table):\n",
    "    \"\"\"\n",
    "    Return what str(table) would return for a regular Python dict\n",
    "    such as {parrt:99}. The order should be in bucket order and then\n",
    "    insertion order within each bucket. The insertion order is\n",
    "    guaranteed when you append to the buckets in htable_put().\n",
    "    \"\"\"\n",
    "    key_values = []\n",
    "\n",
    "    for bucket in table:\n",
    "        if bucket:\n",
    "            for association in bucket:\n",
    "                key = association[0]\n",
    "                value = association[1]\n",
    "                key_values.append(str(key) + ':' + str(value))\n",
    "    return '{' + ', '.join(key_values) + '}'"
   ]
  }
 ],
 "metadata": {
  "kernelspec": {
   "display_name": "Python 3",
   "language": "python",
   "name": "python3"
  },
  "language_info": {
   "codemirror_mode": {
    "name": "ipython",
    "version": 3
   },
   "file_extension": ".py",
   "mimetype": "text/x-python",
   "name": "python",
   "nbconvert_exporter": "python",
   "pygments_lexer": "ipython3",
   "version": "3.8.5"
  }
 },
 "nbformat": 4,
 "nbformat_minor": 5
}
