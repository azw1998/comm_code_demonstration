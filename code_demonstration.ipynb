{
 "cells": [
  {
   "cell_type": "code",
   "execution_count": 266,
   "id": "93049705",
   "metadata": {},
   "outputs": [],
   "source": [
    "def htable(nbuckets): \n",
    "    # nbuckets indicates the number of buckets we want in our hashtable\n",
    "    \n",
    "    return [[] for i in range(nbuckets)] \n",
    "    # returns empty hashtable with desired number of buckets"
   ]
  },
  {
   "cell_type": "code",
   "execution_count": 267,
   "id": "b5d52ff3",
   "metadata": {},
   "outputs": [
    {
     "data": {
      "text/plain": [
       "[[], [], [], [], [], [], [], [], [], []]"
      ]
     },
     "execution_count": 267,
     "metadata": {},
     "output_type": "execute_result"
    }
   ],
   "source": [
    "htable(10)"
   ]
  },
  {
   "cell_type": "code",
   "execution_count": 268,
   "id": "8cbc92d7",
   "metadata": {},
   "outputs": [],
   "source": [
    "def hashcode(o):\n",
    "    \n",
    "    if type(o) == int:\n",
    "        return o # hashcode for an integer is the integer itself\n",
    "    if type(o) == str:\n",
    "        h = 0\n",
    "        for c in o:\n",
    "            h = h*31 + ord(c) # sum of character unicode values\n",
    "        return h\n",
    "    return # return no hashcode for types other than integers and strings"
   ]
  },
  {
   "cell_type": "code",
   "execution_count": 269,
   "id": "e49ae7df",
   "metadata": {},
   "outputs": [
    {
     "data": {
      "text/plain": [
       "42"
      ]
     },
     "execution_count": 269,
     "metadata": {},
     "output_type": "execute_result"
    }
   ],
   "source": [
    "hashcode(42)"
   ]
  },
  {
   "cell_type": "code",
   "execution_count": 270,
   "id": "6e16a68f",
   "metadata": {},
   "outputs": [
    {
     "data": {
      "text/plain": [
       "63401902953007148893"
      ]
     },
     "execution_count": 270,
     "metadata": {},
     "output_type": "execute_result"
    }
   ],
   "source": [
    "hashcode(\"Michael Ruddy\")"
   ]
  },
  {
   "cell_type": "code",
   "execution_count": 271,
   "id": "eb5b0444",
   "metadata": {},
   "outputs": [],
   "source": [
    "def htable_put(table, key, value):\n",
    "    \"\"\"\n",
    "    Process is similar to adding a key-value pair to a dictionary.\n",
    "    The type(value) can be anything.\n",
    "    \"\"\"\n",
    "\n",
    "    bucket = table[hashcode(key) % len(table)]\n",
    "    # find the appropriate bucket for our key in our hashtable\n",
    "\n",
    "    if bucket:\n",
    "        for association in bucket:\n",
    "            if association[0] == key:\n",
    "                bucket.remove(association) \n",
    "                # if key is already present, remove key-value pair\n",
    "                break\n",
    "    bucket.append((key, value)) \n",
    "    # add new or updated key-value pair to hashtable"
   ]
  },
  {
   "cell_type": "code",
   "execution_count": 272,
   "id": "7ab62f13",
   "metadata": {},
   "outputs": [],
   "source": [
    "table = htable(5)\n",
    "htable_put(table, \"a\", \"123\")\n",
    "htable_put(table, \"b\", \"4\")\n",
    "htable_put(table, \"g\", (\"tuple\", \"tuple2\"))"
   ]
  },
  {
   "cell_type": "code",
   "execution_count": 273,
   "id": "8fd46148",
   "metadata": {},
   "outputs": [],
   "source": [
    "def htable_get(table, key):\n",
    "    \n",
    "    bucket = table[hashcode(key) % len(table)] \n",
    "    # find the appropriate bucket for our key in our hashtable\n",
    "\n",
    "    for association in bucket:\n",
    "        if association[0] == key:\n",
    "            return association[1] # return the associated value for input key\n",
    "    return # returns None if key is not found in hashtable"
   ]
  },
  {
   "cell_type": "code",
   "execution_count": 274,
   "id": "3a4ed787",
   "metadata": {},
   "outputs": [
    {
     "data": {
      "text/plain": [
       "'123'"
      ]
     },
     "execution_count": 274,
     "metadata": {},
     "output_type": "execute_result"
    }
   ],
   "source": [
    "htable_get(table, \"a\")"
   ]
  },
  {
   "cell_type": "code",
   "execution_count": 275,
   "id": "ae2e2a4a",
   "metadata": {},
   "outputs": [
    {
     "data": {
      "text/plain": [
       "'4'"
      ]
     },
     "execution_count": 275,
     "metadata": {},
     "output_type": "execute_result"
    }
   ],
   "source": [
    "htable_get(table, \"b\")"
   ]
  },
  {
   "cell_type": "code",
   "execution_count": 276,
   "id": "3d0ceeda",
   "metadata": {},
   "outputs": [
    {
     "data": {
      "text/plain": [
       "('tuple', 'tuple2')"
      ]
     },
     "execution_count": 276,
     "metadata": {},
     "output_type": "execute_result"
    }
   ],
   "source": [
    "htable_get(table, \"g\")"
   ]
  },
  {
   "cell_type": "code",
   "execution_count": 277,
   "id": "f74dc22e",
   "metadata": {},
   "outputs": [],
   "source": [
    "# if we add new values for existing keys, they will replace the original values\n",
    "htable_put(table, \"a\", \"apple\")\n",
    "htable_put(table, \"b\", \"xyz\")\n",
    "htable_put(table, \"g\", [\"list\", \"of\", \"words\"])"
   ]
  },
  {
   "cell_type": "code",
   "execution_count": 278,
   "id": "430f8f65",
   "metadata": {},
   "outputs": [
    {
     "data": {
      "text/plain": [
       "'apple'"
      ]
     },
     "execution_count": 278,
     "metadata": {},
     "output_type": "execute_result"
    }
   ],
   "source": [
    "htable_get(table, \"a\")"
   ]
  },
  {
   "cell_type": "code",
   "execution_count": 279,
   "id": "91019339",
   "metadata": {},
   "outputs": [
    {
     "data": {
      "text/plain": [
       "'xyz'"
      ]
     },
     "execution_count": 279,
     "metadata": {},
     "output_type": "execute_result"
    }
   ],
   "source": [
    "htable_get(table, \"b\")"
   ]
  },
  {
   "cell_type": "code",
   "execution_count": 280,
   "id": "488fcaf6",
   "metadata": {},
   "outputs": [
    {
     "data": {
      "text/plain": [
       "['list', 'of', 'words']"
      ]
     },
     "execution_count": 280,
     "metadata": {},
     "output_type": "execute_result"
    }
   ],
   "source": [
    "htable_get(table, \"g\")"
   ]
  },
  {
   "cell_type": "code",
   "execution_count": 281,
   "id": "e160756c",
   "metadata": {},
   "outputs": [],
   "source": [
    "def htable_buckets_str(table):\n",
    "    bucket_str_list = []\n",
    "\n",
    "    for i in range(len(table)):\n",
    "        # loop through buckets\n",
    "        bucket_key_values = []\n",
    "        for association in table[i]:\n",
    "            # add non-null key-value pairs\n",
    "            if association and association[0] and association[1]:\n",
    "                bucket_key_values.append(str(association[0]) + ':' + str(association[1]))\n",
    "                # concatenate string for current bucket\n",
    "        bucket_str_list.append('000' + str(i) + '->' + ', '.join(bucket_key_values))\n",
    "        # concatenate all bucket strings togher\n",
    "    return '\\n'.join(bucket_str_list) + '\\n'"
   ]
  },
  {
   "cell_type": "code",
   "execution_count": 282,
   "id": "3c21c857",
   "metadata": {
    "scrolled": false
   },
   "outputs": [
    {
     "name": "stdout",
     "output_type": "stream",
     "text": [
      "0000->\n",
      "0001->\n",
      "0002->a:apple\n",
      "0003->b:xyz, g:['list', 'of', 'words']\n",
      "0004->\n",
      "\n"
     ]
    }
   ],
   "source": [
    "print(htable_buckets_str(table))"
   ]
  },
  {
   "cell_type": "code",
   "execution_count": 283,
   "id": "67c2c288",
   "metadata": {},
   "outputs": [
    {
     "data": {
      "text/plain": [
       "[585063, 246925, 756252, 284156, 443584, 586361, 947136, 128507, 290185, 8693]"
      ]
     },
     "execution_count": 283,
     "metadata": {},
     "output_type": "execute_result"
    }
   ],
   "source": [
    "import numpy as np\n",
    "n = 5_000\n",
    "A = list(np.random.randint(low=0,high=1_000_000,size=n))\n",
    "A[0:10]"
   ]
  },
  {
   "cell_type": "code",
   "execution_count": 284,
   "id": "88771425",
   "metadata": {},
   "outputs": [],
   "source": [
    "# basic linear search function\n",
    "def lsearch(a,x):\n",
    "    for a in A:\n",
    "        if a == x:\n",
    "            return True\n",
    "    return False"
   ]
  },
  {
   "cell_type": "code",
   "execution_count": 285,
   "id": "68a1d5a6",
   "metadata": {},
   "outputs": [
    {
     "name": "stdout",
     "output_type": "stream",
     "text": [
      "CPU times: user 568 µs, sys: 0 ns, total: 568 µs\n",
      "Wall time: 570 µs\n"
     ]
    },
    {
     "data": {
      "text/plain": [
       "False"
      ]
     },
     "execution_count": 285,
     "metadata": {},
     "output_type": "execute_result"
    }
   ],
   "source": [
    "%time lsearch(A, 999)"
   ]
  },
  {
   "cell_type": "code",
   "execution_count": 286,
   "id": "13e9ac8a",
   "metadata": {},
   "outputs": [
    {
     "name": "stdout",
     "output_type": "stream",
     "text": [
      "CPU times: user 27.1 ms, sys: 571 µs, total: 27.7 ms\n",
      "Wall time: 27.2 ms\n"
     ]
    }
   ],
   "source": [
    "%time for a in range(50): lsearch(A, a)"
   ]
  },
  {
   "cell_type": "code",
   "execution_count": 299,
   "id": "c9a7beb8",
   "metadata": {},
   "outputs": [
    {
     "name": "stdout",
     "output_type": "stream",
     "text": [
      "0000->108000:value, 48000:value\n",
      "0001->32001:value\n",
      "0002->\n",
      "0003->\n",
      "0004->\n",
      "0005->192005:value, 496005:value\n",
      "0006->\n",
      "0007->588007:value, 476007:value\n",
      "0008->176008:value, 840008:value, 504008:value\n",
      "0009->\n"
     ]
    }
   ],
   "source": [
    "table = htable(4000)\n",
    "for a in A:\n",
    "    htable_put(table, int(a), 'value')\n",
    "\n",
    "print('\\n'.join(htable_buckets_str(table).split('\\n')[:10]))"
   ]
  },
  {
   "cell_type": "code",
   "execution_count": 291,
   "id": "b672ba72",
   "metadata": {},
   "outputs": [
    {
     "name": "stdout",
     "output_type": "stream",
     "text": [
      "CPU times: user 18 µs, sys: 37 µs, total: 55 µs\n",
      "Wall time: 60.3 µs\n"
     ]
    }
   ],
   "source": [
    "%time htable_get(table, 999)"
   ]
  },
  {
   "cell_type": "code",
   "execution_count": 294,
   "id": "75da4f0e",
   "metadata": {},
   "outputs": [
    {
     "name": "stdout",
     "output_type": "stream",
     "text": [
      "CPU times: user 100 µs, sys: 1 µs, total: 101 µs\n",
      "Wall time: 105 µs\n"
     ]
    }
   ],
   "source": [
    "%time for a in range(50): htable_get(table, a)"
   ]
  },
  {
   "cell_type": "code",
   "execution_count": null,
   "id": "82a38210",
   "metadata": {},
   "outputs": [],
   "source": []
  }
 ],
 "metadata": {
  "kernelspec": {
   "display_name": "Python 3",
   "language": "python",
   "name": "python3"
  },
  "language_info": {
   "codemirror_mode": {
    "name": "ipython",
    "version": 3
   },
   "file_extension": ".py",
   "mimetype": "text/x-python",
   "name": "python",
   "nbconvert_exporter": "python",
   "pygments_lexer": "ipython3",
   "version": "3.8.8"
  }
 },
 "nbformat": 4,
 "nbformat_minor": 5
}
