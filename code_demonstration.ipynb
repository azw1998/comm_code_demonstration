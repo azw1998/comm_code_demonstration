{
 "cells": [
  {
   "cell_type": "code",
   "execution_count": 9,
   "id": "532f9c14",
   "metadata": {},
   "outputs": [],
   "source": [
    "def htable(nbuckets): # nbuckets indicates the number of buckets we want to create in our hashtable\n",
    "    \n",
    "    return [[] for i in range(nbuckets)] # returns empty hashtable with desired number of buckets"
   ]
  },
  {
   "cell_type": "code",
   "execution_count": 39,
   "id": "6d5542bb",
   "metadata": {},
   "outputs": [
    {
     "data": {
      "text/plain": [
       "[[], [], [], [], [], [], [], [], [], []]"
      ]
     },
     "execution_count": 39,
     "metadata": {},
     "output_type": "execute_result"
    }
   ],
   "source": [
    "htable(10)"
   ]
  },
  {
   "cell_type": "code",
   "execution_count": 10,
   "id": "85dbccc4",
   "metadata": {},
   "outputs": [],
   "source": [
    "def hashcode(o):\n",
    "    \n",
    "    if type(o) == int:\n",
    "        return o # hashcode for an integer is the integer itself\n",
    "    if type(o) == str:\n",
    "        h = 0\n",
    "        for c in o:\n",
    "            h = h*31 + ord(c) # sum of character unicode values\n",
    "        return h\n",
    "    return # return no hashcode for types other than integers and strings"
   ]
  },
  {
   "cell_type": "code",
   "execution_count": 37,
   "id": "4f1b48d9",
   "metadata": {},
   "outputs": [
    {
     "data": {
      "text/plain": [
       "42"
      ]
     },
     "execution_count": 37,
     "metadata": {},
     "output_type": "execute_result"
    }
   ],
   "source": [
    "hashcode(42)"
   ]
  },
  {
   "cell_type": "code",
   "execution_count": 38,
   "id": "36d230a9",
   "metadata": {},
   "outputs": [
    {
     "data": {
      "text/plain": [
       "63401902953007148893"
      ]
     },
     "execution_count": 38,
     "metadata": {},
     "output_type": "execute_result"
    }
   ],
   "source": [
    "hashcode(\"Michael Ruddy\")"
   ]
  },
  {
   "cell_type": "code",
   "execution_count": 11,
   "id": "89215914",
   "metadata": {},
   "outputs": [],
   "source": [
    "def htable_put(table, key, value):\n",
    "    \"\"\"\n",
    "    Process is similar to adding a key-value pair to a dictionary.\n",
    "    The type(value) can be anything.\n",
    "    \"\"\"\n",
    "\n",
    "    bucket = table[hashcode(key) % len(table)] # find the appropriate bucket for our key in our hashtable\n",
    "\n",
    "    if bucket:\n",
    "        for association in bucket:\n",
    "            if association[0] == key:\n",
    "                bucket.remove(association) # if key is already present, remove key-value pair\n",
    "                break\n",
    "    bucket.append((key, value)) # add new or updated key-value pair to hashtable"
   ]
  },
  {
   "cell_type": "code",
   "execution_count": 29,
   "id": "579cc385",
   "metadata": {},
   "outputs": [],
   "source": [
    "table = htable(5)\n",
    "htable_put(table, \"a\", \"123\")\n",
    "htable_put(table, \"b\", \"4\")\n",
    "htable_put(table, \"g\", (\"tuple\", \"tuple2\"))"
   ]
  },
  {
   "cell_type": "code",
   "execution_count": 12,
   "id": "7cd4e828",
   "metadata": {},
   "outputs": [],
   "source": [
    "def htable_get(table, key):\n",
    "    \n",
    "    bucket = table[hashcode(key) % len(table)] # find the appropriate bucket for our key in our hashtable\n",
    "\n",
    "    for association in bucket:\n",
    "        if association[0] == key:\n",
    "            return association[1] # return the associated value for our input key\n",
    "    return # returns None if key is not found in hashtable"
   ]
  },
  {
   "cell_type": "code",
   "execution_count": 30,
   "id": "9bcd8d89",
   "metadata": {},
   "outputs": [
    {
     "data": {
      "text/plain": [
       "'123'"
      ]
     },
     "execution_count": 30,
     "metadata": {},
     "output_type": "execute_result"
    }
   ],
   "source": [
    "htable_get(table, \"a\")"
   ]
  },
  {
   "cell_type": "code",
   "execution_count": 31,
   "id": "6a35777a",
   "metadata": {},
   "outputs": [
    {
     "data": {
      "text/plain": [
       "'4'"
      ]
     },
     "execution_count": 31,
     "metadata": {},
     "output_type": "execute_result"
    }
   ],
   "source": [
    "htable_get(table, \"b\")"
   ]
  },
  {
   "cell_type": "code",
   "execution_count": 32,
   "id": "a5e1f932",
   "metadata": {},
   "outputs": [
    {
     "data": {
      "text/plain": [
       "('tuple', 'tuple2')"
      ]
     },
     "execution_count": 32,
     "metadata": {},
     "output_type": "execute_result"
    }
   ],
   "source": [
    "htable_get(table, \"g\")"
   ]
  },
  {
   "cell_type": "code",
   "execution_count": 40,
   "id": "68adcce4",
   "metadata": {},
   "outputs": [],
   "source": [
    "# if we add new values for existing keys, they will replace the original values\n",
    "htable_put(table, \"a\", \"apple\")\n",
    "htable_put(table, \"a\", \"xyz\")\n",
    "htable_put(table, \"g\", [\"list\", \"of\", \"words\"])"
   ]
  },
  {
   "cell_type": "code",
   "execution_count": 41,
   "id": "a64cff1d",
   "metadata": {},
   "outputs": [
    {
     "data": {
      "text/plain": [
       "'xyz'"
      ]
     },
     "execution_count": 41,
     "metadata": {},
     "output_type": "execute_result"
    }
   ],
   "source": [
    "htable_get(table, \"a\")"
   ]
  },
  {
   "cell_type": "code",
   "execution_count": 42,
   "id": "f10473e6",
   "metadata": {},
   "outputs": [
    {
     "data": {
      "text/plain": [
       "'4'"
      ]
     },
     "execution_count": 42,
     "metadata": {},
     "output_type": "execute_result"
    }
   ],
   "source": [
    "htable_get(table, \"b\")"
   ]
  },
  {
   "cell_type": "code",
   "execution_count": 43,
   "id": "1187f384",
   "metadata": {},
   "outputs": [
    {
     "data": {
      "text/plain": [
       "['list', 'of', 'words']"
      ]
     },
     "execution_count": 43,
     "metadata": {},
     "output_type": "execute_result"
    }
   ],
   "source": [
    "htable_get(table, \"g\")"
   ]
  },
  {
   "cell_type": "code",
   "execution_count": 13,
   "id": "2afdde1f",
   "metadata": {},
   "outputs": [],
   "source": [
    "def myhtable_create_index(files):\n",
    "    \"\"\"\n",
    "    Build an index from word to set of document indexes\n",
    "    This does the exact same thing as create_index() except that it uses\n",
    "    your htable.  As a number of htable buckets, use 4011.\n",
    "    Returns a list-of-buckets hashtable representation.\n",
    "    \"\"\"\n",
    "    index = htable(4011)\n",
    "\n",
    "    for filename in files:\n",
    "        word_list = set(words(get_text(filename)))\n",
    "        for word in word_list:\n",
    "            curr_value = htable_get(index, word)\n",
    "            if curr_value:\n",
    "                curr_value.add(files.index(filename))\n",
    "                value = curr_value\n",
    "            else:\n",
    "                value = set()\n",
    "                value.add(files.index(filename))\n",
    "            htable_put(index, word, value)\n",
    "    return index"
   ]
  },
  {
   "cell_type": "code",
   "execution_count": 14,
   "id": "72517cf3",
   "metadata": {},
   "outputs": [],
   "source": [
    "def myhtable_index_search(files, index, terms):\n",
    "    \"\"\"\n",
    "    This does the exact same thing as index_search() except that it uses your htable.\n",
    "    I.e., use htable_get(index, w) not index[w].\n",
    "    \"\"\"\n",
    "\n",
    "    matches = []\n",
    "\n",
    "    for term in terms:\n",
    "        term_matches = htable_get(index, term)\n",
    "        if not matches:\n",
    "            matches = term_matches\n",
    "        else:\n",
    "            matches = set(matches).intersection(set(term_matches))\n",
    "    if not matches:\n",
    "        return []\n",
    "    filenames = [files[match] for match in matches]\n",
    "    return filenames"
   ]
  },
  {
   "cell_type": "code",
   "execution_count": 15,
   "id": "fdc58403",
   "metadata": {},
   "outputs": [],
   "source": [
    "def htable_buckets_str(table):\n",
    "    \"\"\"\n",
    "    Return a string representing the various buckets of this table.\n",
    "    The output looks like:\n",
    "        0000->\n",
    "        0001->\n",
    "        0002->\n",
    "        0003->parrt:99\n",
    "        0004->\n",
    "    where parrt:99 indicates an association of (parrt,99) in bucket 3.\n",
    "    \"\"\"\n",
    "    bucket_str_list = []\n",
    "    for i in range(len(table)):\n",
    "        bucket_key_values = []\n",
    "        for association in table[i]:\n",
    "            if association and association[0] and association[1]:\n",
    "                bucket_key_values.append(str(association[0]) + ':' + str(association[1]))\n",
    "        bucket_str_list.append('000' + str(i) + '->' + ', '.join(bucket_key_values))\n",
    "    return '\\n'.join(bucket_str_list) + '\\n'"
   ]
  },
  {
   "cell_type": "code",
   "execution_count": 16,
   "id": "6083e286",
   "metadata": {},
   "outputs": [],
   "source": [
    "def htable_str(table):\n",
    "    \"\"\"\n",
    "    Return what str(table) would return for a regular Python dict\n",
    "    such as {parrt:99}. The order should be in bucket order and then\n",
    "    insertion order within each bucket. The insertion order is\n",
    "    guaranteed when you append to the buckets in htable_put().\n",
    "    \"\"\"\n",
    "    key_values = []\n",
    "\n",
    "    for bucket in table:\n",
    "        if bucket:\n",
    "            for association in bucket:\n",
    "                key = association[0]\n",
    "                value = association[1]\n",
    "                key_values.append(str(key) + ':' + str(value))\n",
    "    return '{' + ', '.join(key_values) + '}'"
   ]
  },
  {
   "cell_type": "code",
   "execution_count": null,
   "id": "723244d8",
   "metadata": {},
   "outputs": [],
   "source": []
  }
 ],
 "metadata": {
  "kernelspec": {
   "display_name": "Python 3",
   "language": "python",
   "name": "python3"
  },
  "language_info": {
   "codemirror_mode": {
    "name": "ipython",
    "version": 3
   },
   "file_extension": ".py",
   "mimetype": "text/x-python",
   "name": "python",
   "nbconvert_exporter": "python",
   "pygments_lexer": "ipython3",
   "version": "3.8.8"
  }
 },
 "nbformat": 4,
 "nbformat_minor": 5
}
